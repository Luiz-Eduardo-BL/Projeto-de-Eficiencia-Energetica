{
 "cells": [
  {
   "cell_type": "code",
   "execution_count": null,
   "id": "68a12598-da23-445c-aef2-cbb222abb68f",
   "metadata": {},
   "outputs": [],
   "source": [
    "import pandas as pd\n",
    "pd.set_option('display.max_rows', None)\n",
    "pd.set_option('display.max_columns', None)"
   ]
  },
  {
   "cell_type": "code",
   "execution_count": null,
   "id": "59d5ea22-8279-4dd5-ab70-600e0a88cd57",
   "metadata": {},
   "outputs": [],
   "source": [
    "# Lista de colunas para a nova planilha PLANILHA_JF_Teste.xlsx\n",
    "colunas = [\n",
    "    \"Pavimento\", \"Nome do ambiente\", \"Comprimento\", \"Largura\", \"Área (m²)\", \"Altura (m)\", \n",
    "    \"Área de portas (m²)\", \"Área de janelas (m²)\", \"Quantidade de pessoas\", \n",
    "    \"Eletroeletrônicos\", \"Tipo de lâmpada\", \"Modelo da lâmpada\", \"Potência da lâmpada (W)\", \n",
    "    \"Quantidade de lâmpadas\", \"Quantidade de reator\", \"Potência do reator\", \"Tipo da luminária\", \n",
    "    \"Nº de lâmpadas/luminária\", \"Modelo da luminária\", \"Quantidade de luminárias\", \n",
    "    \"Iluminação natural\", \"Comando individual\", \"Comando para janela\", \"Modelo\", \n",
    "    \"Marca\", \"Potência (KBTU)\", \"Etiqueta\", \"CEE\", \"Quantidade\", \"Endereço de e-mail\"\n",
    "]\n",
    "\n",
    "# Lê a nova planilha \"PLANILHA_JF_Teste.xlsx\" e armazena em um DataFrame\n",
    "df = pd.read_excel(\"PLANILHA_JF_Teste.xlsx\", sheet_name=1, names=colunas)"
   ]
  },
  {
   "cell_type": "code",
   "execution_count": null,
   "id": "5c30241b-170b-47a3-a8e5-cce6d936e0c9",
   "metadata": {},
   "outputs": [],
   "source": [
    "df = df[(df[\"ALTURA\"].notnull()) & (df[\"ALTURA\"] != \"PLANTA CAD\")].reset_index(drop=True).iloc[1:, :]"
   ]
  },
  {
   "cell_type": "code",
   "execution_count": null,
   "id": "9d2fc0d1-e007-4332-9078-6ea0d1b66737",
   "metadata": {},
   "outputs": [],
   "source": [
    "# Transforma o dataframe em lista\n",
    "dfLista = df.values.tolist()\n",
    "\n",
    "# Remove o cabeçalho\n",
    "dfLista.pop(0)\n",
    "\n",
    "# Filtra a lista para remover campos onde não há altura da sala\n",
    "df_lista_nova_planilha_antiga = list(filter(lambda x: True \n",
    "if (x[6] != \"PLANTA CAD\" \n",
    "and str(x[3]) != \"nan\" and str(x[3]) != \"-\" \n",
    "and str(x[4]) != \"nan\" and str(x[4]) != \"-\" and str(x[4]) != \"10,87/9\"\n",
    "and str(x[5]) != \"nan\" and str(x[5]) != \"-\" \n",
    "and str(x[6]) != \"nan\" and str(x[6]) != \"-\" \n",
    "and str(x[0]) != \"nan\" and str(x[1]) != \"nan\") \n",
    "else False, dfLista))\n",
    "\n",
    "dfListaNova = []\n",
    "\n",
    "print(df.columns)\n",
    "for x in dfListaAntiga:\n",
    "    print(x)\n",
    "    dfListaNova.append(x)\n"
   ]
  },
  {
   "cell_type": "code",
   "execution_count": null,
   "id": "c917d535-df5d-4574-b60b-efe82aea235b",
   "metadata": {},
   "outputs": [],
   "source": [
    "dfNovo = pd.DataFrame(dfListaNova, columns=colunas)\n",
    "dfNovo"
   ]
  },
  {
   "cell_type": "code",
   "execution_count": null,
   "id": "f8ee1ac1-cf7d-4ee0-8cbf-a40c54ede73f",
   "metadata": {},
   "outputs": [],
   "source": [
    "dfNovo = dfNovo[[\"Pavimento\", \"Nome do ambiente\", \"Comprimento\", \"Largura\", \"Altura (m)\"]]"
   ]
  },
  {
   "cell_type": "code",
   "execution_count": null,
   "id": "28d75e8a-f18d-4fb8-ad20-a765ffb42d1c",
   "metadata": {},
   "outputs": [],
   "source": [
    "import pandas as pd\n",
    "\n",
    "# Lê a planilha \"PLANILHA_JF.xlsx\" e armazena em um DataFrame\n",
    "df = pd.read_excel(\"PLANILHA_JF_Teste.xlsx\")\n",
    "\n",
    "# Lista de colunas para a nova planilha PLANILHA_JF_Teste.xlsx\n",
    "colunas2 = [\n",
    "    \"Pavimento\", \"Nome do ambiente\", \"Comprimento\", \"Largura\", \"Área (m²)\", \"Altura (m)\", \n",
    "    \"Área de portas (m²)\", \"Área de janelas (m²)\", \"Quantidade de pessoas\", \n",
    "    \"Eletroeletrônicos\", \"Tipo de lâmpada\", \"Modelo da lâmpada\", \"Potência da lâmpada (W)\", \n",
    "    \"Quantidade de lâmpadas\", \"Quantidade de reator\", \"Potência do reator\", \"Tipo da luminária\", \n",
    "    \"Nº de lâmpadas/luminária\", \"Modelo da luminária\", \"Quantidade de luminárias\", \n",
    "    \"Iluminação natural\", \"Comando individual\", \"Comando para janela\", \"Modelo\", \n",
    "    \"Marca\", \"Potência (KBTU)\", \"Etiqueta\", \"CEE\", \"Quantidade\", \"Endereço de e-mail\"\n",
    "]\n",
    "\n",
    "# Define uma função para verificar e modificar os nomes das colunas\n",
    "def verificar_colunas(colunas2, df):\n",
    "    # Obtém o número de colunas na planilha\n",
    "    n_colunas = len(df.columns)\n",
    "\n",
    "    # Verifica se o número de nomes na lista colunas2 é igual ao número de colunas na planilha\n",
    "    if len(colunas2) != n_colunas:\n",
    "        # Percorre os nomes na lista colunas2\n",
    "        for i, nome in enumerate(colunas2):\n",
    "            # Verifica se o nome é diferente do nome da coluna correspondente na planilha\n",
    "            if nome != df.columns[i]:\n",
    "                # Se for diferente, coloca o nome da coluna na lista colunas2\n",
    "                colunas2[i] = df.columns[i]\n",
    "    \n",
    "        # Imprime a lista colunas2 atualizada\n",
    "        print(\"Lista colunas2:\", colunas2)\n",
    "        print(\"Lista Planilha:\", df.columns)\n",
    "    elif print(\"Planilhas iguais\"):\n",
    "        return\n",
    "\n",
    "# Chama a função verificar_colunas com a lista colunas2 e o DataFrame df\n",
    "verificar_colunas(colunas2, df)"
   ]
  },
  {
   "cell_type": "code",
   "execution_count": null,
   "id": "e649a481-af1e-4d57-a79f-a22f4f823c5b",
   "metadata": {},
   "outputs": [],
   "source": [
    "colunas2 = [\n",
    "    \"Pavimento\", \"Nome do ambiente\", \"Comprimento\", \"Largura\", \"Área (m²)\", \"Altura (m)\", \n",
    "    \"Área de portas (m²)\", \"Área de janelas (m²)\", \"Quantidade de pessoas\", \n",
    "    \"Eletroeletrônicos\", \"Tipo de lâmpada\", \"Modelo da lâmpada\", \"Potência da lâmpada (W)\", \n",
    "    \"Quantidade de lâmpadas\", \"Quantidade de reator\", \"Potência do reator\", \"Tipo da luminária\", \n",
    "    \"Nº de lâmpadas/luminária\", \"Modelo da luminária\", \"Quantidade de luminárias\", \n",
    "    \"Iluminação natural\", \"Comando individual\", \"Comando para janela\", \"Modelo\", \n",
    "    \"Marca\", \"Potência (KBTU)\", \"Etiqueta\", \"CEE\", \"Quantidade\", \"Endereço de e-mail\"\n",
    "]\n",
    "\n",
    "df2 = pd.read_excel(\"PLANILHA_JF_Teste.xlsx\", sheet_name=1, names=colunas)\n",
    "df2 = df2[df2][\"Potência da lâmpada (W)\"].notnull() & (df2[\"Potência da lâmpada (W)\"])!=\"SI\")].reset_index(drop=True).iloc[1:,:] #remove colunas onde não tem potencia e remove a primeira linha que é parte do cabeçalho\n",
    "df2 = df2[[\"Pavimento\", \"Nome do ambiente\", \"Potência da lâmpada (W)\", \"Quantidade de lâmpadas\"]]"
   ]
  },
  {
   "cell_type": "code",
   "execution_count": null,
   "id": "7752e425-073d-4fd9-8201-c2294fe54f7c",
   "metadata": {},
   "outputs": [],
   "source": [
    "dfGeral = dfNovo.merge(df2,how=\"inner\", left_on=[\"Pavimento\",\"Nome do ambiente\"], right_on=[\"Pavimento\",\"Nome do ambiente\"])"
   ]
  },
  {
   "cell_type": "code",
   "execution_count": null,
   "id": "f9940d41-c406-4cbc-89dd-612060c9fd4a",
   "metadata": {},
   "outputs": [],
   "source": [
    "campos = {\"Pavimento\": \"pavimento\", \"Nome do ambiente\": \"ambiente\", \"Comprimento\":\"comprimento\", \"Largura\":\"largura\", \"Área (m²)\": \"area\", \"Altura (m)\": \"distanciaPlanoDeTrabalhoTeto\", \"Potência da lâmpada (W)\": \"potenciaLampada\", \"Quantidade de lâmpadas\": \"qntdLampadas\"}\n",
    "dfGeral = dfGeral.rename(columns=campos)\n",
    "dfGeral.drop_duplicates(inplace=True)\n",
    "dfGeral"
   ]
  },
  {
   "cell_type": "code",
   "execution_count": null,
   "id": "dfdd5fee-507a-4516-8aaa-27e3205c1119",
   "metadata": {},
   "outputs": [],
   "source": [
    "import requests\n",
    "\n",
    "# Carga no Banco de Dados\n",
    "for i in dfGeral.values.tolist():\n",
    "    json = {\"pavimento\":str(i[0]),\"ambiente\":str(i[1]),\"area\":i[2],\"comprimento\":i[3],\"distanciaPlanoDeTrabalhoTeto\":i[4],\"potenciaLampada\":i[5],\"qntdLampadas\":[i][6]}\n",
    "    response = requests.post(f\"https://us-central1-eficiencia-energetica---jf.cloudfunctions.net/api/ambientes\",json=json)\n",
    "    print(f\"PAV - {i[0]} Ambiente - {i[1]} ====> status:{response.status_code}\")\n"
   ]
  }
 ],
 "metadata": {
  "kernelspec": {
   "display_name": "Python 3 (ipykernel)",
   "language": "python",
   "name": "python3"
  },
  "language_info": {
   "codemirror_mode": {
    "name": "ipython",
    "version": 3
   },
   "file_extension": ".py",
   "mimetype": "text/x-python",
   "name": "python",
   "nbconvert_exporter": "python",
   "pygments_lexer": "ipython3",
   "version": "3.11.6"
  }
 },
 "nbformat": 4,
 "nbformat_minor": 5
}
