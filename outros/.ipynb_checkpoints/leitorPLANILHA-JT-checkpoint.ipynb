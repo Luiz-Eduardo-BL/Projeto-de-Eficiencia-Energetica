{
 "cells": [
  {
   "cell_type": "code",
   "execution_count": null,
   "metadata": {},
   "outputs": [],
   "source": [
    "import pandas as pd\n",
    "pd.set_option('display.max_rows', None)\n",
    "pd.set_option('display.max_columns', None)"
   ]
  },
  {
   "cell_type": "code",
   "execution_count": null,
   "metadata": {},
   "outputs": [],
   "source": [
    "colunas = [\"PAV\",\"AMBIENTE\",\"TIPO\",\"COMPRIMENTO\",\"LARGURA\",\"ALTURA\",\"ÁREA DE SALA\",\n",
    "\"ÁREA DE PORTAS\",\"ÁREA DE JANELAS\",\"QUANT. PESSOAS\",\"EQUIPAMENTOS ELETRICOS\",\"MARCA\",\n",
    "\"MODELO\",\"POT. (KBTU)\",\"ETIQUETA\",\"CEE\",\"QUANT.\",\"NAN\"\n",
    "]\n",
    "df = pd.read_excel(\"CALCULO LUMINOTÉCNICO.xlsx\",sheet_name=0,names=colunas)"
   ]
  },
  {
   "cell_type": "code",
   "execution_count": null,
   "metadata": {},
   "outputs": [],
   "source": [
    "df[ (df[\"ALTURA\"].notnull()) & (df[\"ALTURA\"]!=\"PLANTA CAD\")].reset_index(drop=True).iloc[1:,:] # REMOVE LINHAS QUE NÃO TEM ALTURA e Remove a primeira linha que é parte do cabeçalho"
   ]
  },
  {
   "cell_type": "code",
   "execution_count": null,
   "metadata": {},
   "outputs": [],
   "source": [
    "dfLista = df.values.tolist() # Transforma o dataframe em lista e remove o cabeçalho\n",
    "dfLista.pop(0)\n",
    "dfListaAntiga = list(filter(lambda x: True \n",
    "if (x[6] != \"PLANTA CAD\" \n",
    "and str(x[3])!=\"nan\" and str(x[3])!=\"-\" \n",
    "and str(x[4])!=\"nan\" and str(x[4])!=\"-\" and str(x[4])!=\"10,87/9\"\n",
    "and str(x[5])!=\"nan\" and str(x[5])!=\"-\" \n",
    "and str(x[6])!=\"nan\" and str(x[6])!=\"-\" \n",
    "and str(x[0]!=\"nan\") and str(x[1]!=\"nan\")) \n",
    "else False,dfLista))#remove campos onde não alura da sala\t\n",
    "\n",
    "dfListaNova = []\n",
    "\n",
    "\n",
    "print(df.columns)\n",
    "for x in dfListaAntiga:\n",
    "    print(x)\n",
    "    dfListaNova.append(x)\n"
   ]
  },
  {
   "cell_type": "code",
   "execution_count": null,
   "metadata": {},
   "outputs": [],
   "source": [
    "dfNovo = pd.DataFrame(dfListaNova,columns=colunas)\n",
    "#dfNovo = dfNovo[dfNovo[\"PAV\"].notnull() & dfNovo[\"AMBIENTE\"].notnull()]\n",
    "dfNovo"
   ]
  },
  {
   "cell_type": "code",
   "execution_count": null,
   "metadata": {},
   "outputs": [],
   "source": [
    "dfNovo = dfNovo[[\"PAV\",\"AMBIENTE\",\"COMPRIMENTO\",\"LARGURA\",\"ALTURA\"]]"
   ]
  },
  {
   "cell_type": "code",
   "execution_count": null,
   "metadata": {},
   "outputs": [],
   "source": [
    "\n",
    "colunas2 = [\"PAV\",\"AMBIENTE\",\"TIPO\",\"LÂMPADAS\",\"MODELO\",\"POT. (W)\",\"QUANT.\",\"POTÊNCIA\",\"QUANT.\",\"MODELO\",\"LÂMPADAS/LUMINÁRIA\",\"QUANT2.\",\"LUZ NATURAL\",\"COMANDO P/JANELA\",\"COMANDO INDIVIDUAL\",\"NAN\"]\n",
    "df2 = pd.read_excel(\"CALCULO LUMINOTÉCNICO.xlsx\",sheet_name=1,names=colunas2)\n",
    "df2 = df2[df2[\"POT. (W)\"].notnull() & (df2[\"POT. (W)\"]!=\"SI\")].reset_index(drop=True).iloc[1:,:] #remove colunas onde não tem potencia e remove a primeira linha que é parte do cabeçalho\n",
    "df2 = df2[[\"PAV\",\"AMBIENTE\",\"POT. (W)\",\"QUANT.\"]]"
   ]
  },
  {
   "cell_type": "code",
   "execution_count": null,
   "metadata": {},
   "outputs": [],
   "source": [
    "dfGeral = dfNovo.merge(df2,how=\"inner\", left_on=[\"PAV\",\"AMBIENTE\"], right_on=[\"PAV\",\"AMBIENTE\"])"
   ]
  },
  {
   "cell_type": "code",
   "execution_count": null,
   "metadata": {},
   "outputs": [],
   "source": [
    "campos = {\"PAV\":\"pavimento\",\"AMBIENTE\":\"ambiente\",\"COMPRIMENTO\":\"comprimento\",\"LARGURA\":\"largura\",\"ALTURA\":\"distanciaPlanoDeTrabalhoTeto\",\"POT. (W)\":\"potenciaLampada\",\"QUANT.\":\"qntdLampadas\"}\n",
    "dfGeral = dfGeral.rename(columns=campos)\n",
    "dfGeral.drop_duplicates(inplace=True)\n",
    "dfGeral"
   ]
  },
  {
   "cell_type": "markdown",
   "metadata": {},
   "source": [
    "### Geração do PDF de Qr-Code"
   ]
  },
  {
   "cell_type": "code",
   "execution_count": null,
   "metadata": {},
   "outputs": [],
   "source": [
    "import requests\n",
    "from fpdf import FPDF\n",
    "import os\n",
    "# save FPDF() class into a\n",
    "# variable pdf\n",
    "pdf = FPDF()\n",
    "\n",
    "# set style and size of font\n",
    "\t# that you want in the pdf\n",
    "pdf.set_font(\"Arial\", size = 15)\n",
    "\n",
    "\n",
    "\n",
    "for index,i in enumerate(dfGeral.values.tolist()):\n",
    "    pavimento = i[0]\n",
    "\n",
    "    ambiente = i[1]\n",
    "\n",
    "    pdf.add_page() # add a page\n",
    "    \n",
    "\t# create a cell\n",
    "    pdf.cell(w = 0, h = 100, txt = f\"PAV. {pavimento} - {ambiente}\",\n",
    "\t\t\tln = 1, align = 'C')\n",
    "\n",
    "    \n",
    "\n",
    "    \n",
    "    response = requests.get(f\"https://us-central1-eficiencia-energetica---jf.cloudfunctions.net/api/ambientesQrCode?pavimento={pavimento}&ambiente={ambiente}\").json()\n",
    "    qrCodeAmbiente = response[\"qrCodeAmbiente\"]\n",
    "    response2 = requests.get(qrCodeAmbiente)\n",
    "\n",
    "    imgDir = f\"qrCodeAmbiente{index}.png\"\n",
    "\n",
    "    file = open(imgDir, \"wb\")\n",
    "    file.write(response2.content)\n",
    "    file.close()\n",
    "\n",
    "    #BytesIO(response2.content)\n",
    "    pdf.image(imgDir, x = pdf.w/2-50/2, y = pdf.h/2-50/2, w = 50, h = 50)\n",
    "\n",
    "    os.remove(imgDir)#remove a imagem da pasta\n",
    "\n",
    "\n",
    "pdf.output(\"outros/qrCodesAmbientes.pdf\")\n"
   ]
  },
  {
   "cell_type": "markdown",
   "metadata": {},
   "source": [
    "### Carga no Banco de Dados"
   ]
  },
  {
   "cell_type": "code",
   "execution_count": null,
   "metadata": {},
   "outputs": [],
   "source": [
    "import requests\n",
    "for i in dfGeral.values.tolist():\n",
    "    json = {\"pavimento\":str(i[0]),\"ambiente\":str(i[1]),\"comprimento\":i[2],\"largura\":i[3],\"distanciaPlanoDeTrabalhoTeto\":i[4],\"potenciaLampada\":i[5],\"qntdLampadas\":i[6]}\n",
    "    response = requests.post(f\"https://us-central1-eficiencia-energetica---jf.cloudfunctions.net/api/ambientes\",json=json)\n",
    "    print(f\"PAV - {i[0]} Ambiente - {i[1]} ====> status:{response.status_code}\")"
   ]
  }
 ],
 "metadata": {
  "kernelspec": {
   "display_name": "Python 3.10.4 64-bit",
   "language": "python",
   "name": "python3"
  },
  "language_info": {
   "codemirror_mode": {
    "name": "ipython",
    "version": 3
   },
   "file_extension": ".py",
   "mimetype": "text/x-python",
   "name": "python",
   "nbconvert_exporter": "python",
   "pygments_lexer": "ipython3",
   "version": "3.11.5"
  },
  "orig_nbformat": 4,
  "vscode": {
   "interpreter": {
    "hash": "383fbf05e7ad3f1b5921a0e18ed339c629d1057e15c7758023e42e420f381c57"
   }
  }
 },
 "nbformat": 4,
 "nbformat_minor": 2
}
