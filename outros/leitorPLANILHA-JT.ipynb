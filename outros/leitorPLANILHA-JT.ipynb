{
 "cells": [
  {
   "cell_type": "code",
   "execution_count": 18,
   "metadata": {},
   "outputs": [],
   "source": [
    "import pandas as pd\n",
    "pd.set_option('display.max_rows', None)\n",
    "pd.set_option('display.max_columns', None)"
   ]
  },
  {
   "cell_type": "code",
   "execution_count": 15,
   "metadata": {},
   "outputs": [],
   "source": [
    "colunas = [\"PAV\", \"AMBIENTE\", \"ÁREA\", \"TIPO\", \"ALTURA\", \"PÉ DIREITO ÚTIL\", \"REFLETÂNCIA\", \"FATOR DE DEPRECIAÇÃO\", \"NÍVEL DE ILUMINÂNCIA (LUX)\", \"FLUXO LUMINOSO TOTAL (LUMENS)\", \"COEFICIENTE DE UTILIZAÇÃO\", \"LÂMPADAS POR LUMINÁRIA\", \"FLUXO POR LÂMPADAS\", \"FLUXO POR LUMINÁRIA\", \"CÁLCULO DE LUMINÁRIAS\", \"TOTAL DE LUMINÁRIAS\", \"TOTAL DE LÂMPADAS\", \"POTÊNCIA UNITÁRIA\", \"MODELO DE LUMINÁRIA\", \"TEMPERATURA DA LÂMPADA\", \"POTENCIA TOTAL\", \"P. LIMITE A\", \"ETIQUETA FUTURA\"]\n",
    "df = pd.read_excel(\"PLANILHA_JF.xlsx\", sheet_name=0, names=colunas)\n"
   ]
  },
  {
   "cell_type": "code",
   "execution_count": null,
   "metadata": {},
   "outputs": [],
   "source": [
    "df = df[(df[\"ALTURA\"].notnull()) & (df[\"ALTURA\"] != \"PLANTA CAD\")].reset_index(drop=True).iloc[1:, :] # REMOVE LINHAS QUE NÃO TEM ALTURA e Remove a primeira linha que é parte do cabeçalho"
   ]
  },
  {
   "cell_type": "code",
   "execution_count": null,
   "metadata": {},
   "outputs": [],
   "source": [
    "dfLista = df.values.tolist()  # Transforma o dataframe em lista\n",
    "dfLista.pop(0)  # Remove o cabeçalho\n",
    "\n",
    "# Filtra a lista para remover campos onde não há altura da sala\n",
    "dfListaAntiga = list(filter(lambda x: True \n",
    "if (x[6] != \"PLANTA CAD\" \n",
    "and str(x[3]) != \"nan\" and str(x[3]) != \"-\" \n",
    "and str(x[4]) != \"nan\" and str(x[4]) != \"-\" and str(x[4]) != \"10,87/9\"\n",
    "and str(x[5]) != \"nan\" and str(x[5]) != \"-\" \n",
    "and str(x[6]) != \"nan\" and str(x[6]) != \"-\" \n",
    "and str(x[0]) != \"nan\" and str(x[1]) != \"nan\") \n",
    "else False, dfLista))\n",
    "\n",
    "dfListaNova = []\n",
    "\n",
    "print(df.columns)\n",
    "for x in dfListaAntiga:\n",
    "    print(x)\n",
    "    dfListaNova.append(x)\n"
   ]
  },
  {
   "cell_type": "code",
   "execution_count": null,
   "metadata": {},
   "outputs": [],
   "source": [
    "dfNovo = pd.DataFrame(dfListaNova, columns=colunas)\n",
    "dfNovo"
   ]
  },
  {
   "cell_type": "code",
   "execution_count": null,
   "metadata": {},
   "outputs": [],
   "source": [
    "dfNovo = dfNovo[[\"PAV\", \"AMBIENTE\", \"COMPRIMENTO\", \"LARGURA\", \"ALTURA\"]]"
   ]
  },
  {
   "cell_type": "code",
   "execution_count": null,
   "metadata": {},
   "outputs": [],
   "source": [
    "import pandas as pd\n",
    "\n",
    "# Lê a planilha \"PLANILHA_JF.xlsx\" e armazena em um DataFrame\n",
    "df = pd.read_excel(\"PLANILHA_JF.xlsx\")\n",
    "\n",
    "# Define a lista colunas2 com os nomes das colunas\n",
    "colunas2 = [\"PAV\", \"AMBIENTE\", \"ÁREA\", \"TIPO\", \"ALTURA\", \"PÉ DIREITO ÚTIL\", \"REFLETÂNCIA\", \"FATOR DE DEPRECIAÇÃO\", \"NÍVEL DE ILUMINÂNCIA (LUX)\", \"FLUXO LUMINOSO TOTAL (LUMENS)\", \"COEFICIENTE DE UTILIZAÇÃO\", \"LÂMPADAS POR LUMINÁRIA\", \"FLUXO POR LÂMPADAS\", \"FLUXO POR LUMINÁRIA\", \"CÁLCULO DE LUMINÁRIAS\", \"TOTAL DE LUMINÁRIAS\", \"TOTAL DE LÂMPADAS\", \"POTÊNCIA UNITÁRIA\", \"MODELO DE LUMINÁRIA\", \"TEMPERATURA DA LÂMPADA\", \"POTENCIA TOTAL\", \"P. LIMITE A\", \"ETIQUETA FUTURA\"]\n",
    "\n",
    "# Define uma função para verificar e modificar os nomes das colunas\n",
    "def verificar_colunas(colunas2, df):\n",
    "    # Obtém o número de colunas na planilha\n",
    "    n_colunas = len(df.columns)\n",
    "\n",
    "    # Verifica se o número de nomes na lista colunas2 é igual ao número de colunas na planilha\n",
    "    if len(colunas2) != n_colunas:\n",
    "        # Percorre os nomes na lista colunas2\n",
    "        for i, nome in enumerate(colunas2):\n",
    "            # Verifica se o nome é diferente do nome da coluna correspondente na planilha\n",
    "            if nome != df.columns[i]:\n",
    "                # Se for diferente, coloca o nome da coluna na lista colunas2\n",
    "                colunas2[i] = df.columns[i]\n",
    "    \n",
    "        # Imprime a lista colunas2 atualizada\n",
    "        print(\"Lista colunas2:\", colunas2)\n",
    "        print(\"Lista Planilha:\", df.columns)\n",
    "    elif print(\"Planilhas iguais\"):\n",
    "        return\n",
    "\n",
    "# Chama a função verificar_colunas com a lista colunas2 e o DataFrame df\n",
    "verificar_colunas(colunas2, df)\n"
   ]
  },
  {
   "cell_type": "code",
   "execution_count": null,
   "metadata": {
    "scrolled": true
   },
   "outputs": [],
   "source": [
    "colunas2 = [\"PAV\", \"AMBIENTE\", \"ÁREA\", \"TIPO\", \"ALTURA\", \"PÉ DIREITO ÚTIL\", \"REFLETÂNCIA\", \"FATOR DE DEPRECIAÇÃO\", \"NÍVEL DE ILUMINÂNCIA (LUX)\", \"FLUXO LUMINOSO TOTAL (LUMENS)\", \"COEFICIENTE DE UTILIZAÇÃO\", \"LÂMPADAS POR LUMINÁRIA\", \"FLUXO POR LÂMPADAS\", \"FLUXO POR LUMINÁRIA\", \"CÁLCULO DE LUMINÁRIAS\", \"TOTAL DE LUMINÁRIAS\", \"TOTAL DE LÂMPADAS\", \"POTÊNCIA UNITÁRIA\", \"MODELO DE LUMINÁRIA\", \"TEMPERATURA DA LÂMPADA\", \"POTENCIA TOTAL\", \"P. LIMITE A\", \"ETIQUETA FUTURA\"]\n",
    "df2 = pd.read_excel(\"PLANILHA_JF.xlsx\", sheet_name=0, names=colunas2)\n",
    "df2 = df2[df2[\"POTÊNCIA UNITÁRIA\"].notnull() & (df2[\"POTÊNCIA UNITÁRIA\"]!=\"SI\")].reset_index(drop=True).iloc[1:,:] #remove colunas onde não tem potencia e remove a primeira linha que é parte do cabeçalho\n",
    "df2 = df2[[\"PAV\",\"AMBIENTE\",\"ÁREA\",\"POTÊNCIA UNITÁRIA\",\"TOTAL DE LÂMPADAS\"]]\n"
   ]
  },
  {
   "cell_type": "code",
   "execution_count": null,
   "metadata": {},
   "outputs": [],
   "source": [
    "dfGeral = dfNovo.merge(df2,how=\"inner\", left_on=[\"PAV\",\"AMBIENTE\"], right_on=[\"PAV\",\"AMBIENTE\"])"
   ]
  },
  {
   "cell_type": "code",
   "execution_count": null,
   "metadata": {},
   "outputs": [],
   "source": [
    "campos = {\"PAV\": \"pavimento\", \"AMBIENTE\": \"ambiente\", \"COMPRIMENTO\":\"comprimento\", \"LARGURA\":\"largura\", \"ÁREA\": \"area\", \"ALTURA\": \"distanciaPlanoDeTrabalhoTeto\", \"POT. (W)\": \"potenciaLampada\", \"QUANT.\": \"qntdLampadas\"}\n",
    "dfGeral = dfGeral.rename(columns=campos)\n",
    "dfGeral.drop_duplicates(inplace=True)\n",
    "dfGeral"
   ]
  },
  {
   "cell_type": "code",
   "execution_count": null,
   "metadata": {},
   "outputs": [],
   "source": [
    "import requests\n",
    "\n",
    "# Carga no Banco de Dados\n",
    "for i in dfGeral.values.tolist():\n",
    "    json = {\"pavimento\":str(i[0]),\"ambiente\":str(i[1]),\"area\":i[2],\"comprimento\":i[3],\"distanciaPlanoDeTrabalhoTeto\":i[4],\"potenciaLampada\":i[5],\"qntdLampadas\":[i][6]}\n",
    "    response = requests.post(f\"https://us-central1-eficiencia-energetica---jf.cloudfunctions.net/api/ambientes\",json=json)\n",
    "    print(f\"PAV - {i[0]} Ambiente - {i[1]} ====> status:{response.status_code}\")\n"
   ]
  },
  {
   "cell_type": "markdown",
   "metadata": {},
   "source": [
    "### Geração do PDF de Qr-Code"
   ]
  },
  {
   "cell_type": "code",
   "execution_count": null,
   "metadata": {},
   "outputs": [],
   "source": [
    "import requests\n",
    "from fpdf import FPDF\n",
    "import os\n",
    "\n",
    "# save FPDF() class into a variable pdf\n",
    "pdf = FPDF()\n",
    "\n",
    "# set style and size of font that you want in the pdf\n",
    "pdf.set_font(\"Arial\", size=15)\n",
    "\n",
    "# obter o diretório do trabalho atual\n",
    "script_dir = os.getcwd()\n",
    "\n",
    "for index, i in enumerate(dfGeral.values.tolist()):\n",
    "    pavimento = i[0]\n",
    "    ambiente = i[1]\n",
    "\n",
    "    pdf.add_page()  # add a page\n",
    "\n",
    "    # create a cell\n",
    "    pdf.cell(w=0, h=100, txt=f\"PAV. {pavimento} - {ambiente}\",\n",
    "             ln=1, align='C')\n",
    "\n",
    "    response = requests.get(\n",
    "        f\"https://us-central1-eficiencia-energetica---jf.cloudfunctions.net/api/ambientesQrCode?pavimento={pavimento}&ambiente={ambiente}\"\n",
    "    ).json()\n",
    "\n",
    "    qrCodeAmbiente = response[\"qrCodeAmbiente\"]\n",
    "    response2 = requests.get(qrCodeAmbiente)\n",
    "\n",
    "    # nome do arquivo de imagem\n",
    "    img_filename = f\"qrCodeAmbiente{index}.png\"\n",
    "\n",
    "    # caminho completo do arquivo\n",
    "    img_path = os.path.join(script_dir, img_filename)\n",
    "\n",
    "    # salvar a imagem\n",
    "    with open(img_path, \"wb\") as file:\n",
    "        file.write(response2.content)\n",
    "\n",
    "    # BytesIO(response2.content)\n",
    "    pdf.image(img_path, x=pdf.w/2-50/2, y=pdf.h/2-50/2, w=50, h=50)\n",
    "\n",
    "    # remover a imagem do diretório\n",
    "    os.remove(img_path)\n",
    "\n",
    "# nome do arquivo PDF\n",
    "pdf_filename = \"qrCodesAmbientes.pdf\"\n",
    "\n",
    "# caminho completo do arquivo PDF\n",
    "pdf_path = os.path.join(script_dir, pdf_filename)\n",
    "\n",
    "# salvar o PDF no mesmo diretório do script\n",
    "pdf.output(pdf_path)\n"
   ]
  },
  {
   "cell_type": "code",
   "execution_count": null,
   "metadata": {},
   "outputs": [],
   "source": []
  }
 ],
 "metadata": {
  "kernelspec": {
   "display_name": "Python 3 (ipykernel)",
   "language": "python",
   "name": "python3"
  },
  "language_info": {
   "codemirror_mode": {
    "name": "ipython",
    "version": 3
   },
   "file_extension": ".py",
   "mimetype": "text/x-python",
   "name": "python",
   "nbconvert_exporter": "python",
   "pygments_lexer": "ipython3",
   "version": "3.11.6"
  },
  "vscode": {
   "interpreter": {
    "hash": "383fbf05e7ad3f1b5921a0e18ed339c629d1057e15c7758023e42e420f381c57"
   }
  }
 },
 "nbformat": 4,
 "nbformat_minor": 4
}
